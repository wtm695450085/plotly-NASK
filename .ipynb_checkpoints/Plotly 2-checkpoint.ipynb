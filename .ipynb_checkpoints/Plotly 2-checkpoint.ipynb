{
 "cells": [
  {
   "cell_type": "code",
   "execution_count": 1,
   "metadata": {},
   "outputs": [
    {
     "data": {
      "application/javascript": [
       "\n",
       "            setTimeout(function() {\n",
       "                var nbb_cell_id = 1;\n",
       "                var nbb_unformatted_code = \"%load_ext nb_black\";\n",
       "                var nbb_formatted_code = \"%load_ext nb_black\";\n",
       "                var nbb_cells = Jupyter.notebook.get_cells();\n",
       "                for (var i = 0; i < nbb_cells.length; ++i) {\n",
       "                    if (nbb_cells[i].input_prompt_number == nbb_cell_id) {\n",
       "                        if (nbb_cells[i].get_text() == nbb_unformatted_code) {\n",
       "                             nbb_cells[i].set_text(nbb_formatted_code);\n",
       "                        }\n",
       "                        break;\n",
       "                    }\n",
       "                }\n",
       "            }, 500);\n",
       "            "
      ],
      "text/plain": [
       "<IPython.core.display.Javascript object>"
      ]
     },
     "metadata": {},
     "output_type": "display_data"
    }
   ],
   "source": [
    "%load_ext nb_black"
   ]
  },
  {
   "cell_type": "code",
   "execution_count": 2,
   "metadata": {},
   "outputs": [
    {
     "name": "stderr",
     "output_type": "stream",
     "text": [
      "/home/wojciech/.local/lib/python3.6/site-packages/ipykernel_launcher.py:2: UserWarning: \n",
      "The dash_html_components package is deprecated. Please replace\n",
      "`import dash_html_components as html` with `from dash import html`\n",
      "  \n",
      "/home/wojciech/.local/lib/python3.6/site-packages/ipykernel_launcher.py:3: UserWarning: \n",
      "The dash_core_components package is deprecated. Please replace\n",
      "`import dash_core_components as dcc` with `from dash import dcc`\n",
      "  This is separate from the ipykernel package so we can avoid doing imports until\n"
     ]
    },
    {
     "data": {
      "application/javascript": [
       "\n",
       "            setTimeout(function() {\n",
       "                var nbb_cell_id = 2;\n",
       "                var nbb_unformatted_code = \"import dash\\nimport dash_html_components as html\\nimport dash_core_components as dcc\\nimport plotly.graph_objects as go\\nimport plotly.express as px\";\n",
       "                var nbb_formatted_code = \"import dash\\nimport dash_html_components as html\\nimport dash_core_components as dcc\\nimport plotly.graph_objects as go\\nimport plotly.express as px\";\n",
       "                var nbb_cells = Jupyter.notebook.get_cells();\n",
       "                for (var i = 0; i < nbb_cells.length; ++i) {\n",
       "                    if (nbb_cells[i].input_prompt_number == nbb_cell_id) {\n",
       "                        if (nbb_cells[i].get_text() == nbb_unformatted_code) {\n",
       "                             nbb_cells[i].set_text(nbb_formatted_code);\n",
       "                        }\n",
       "                        break;\n",
       "                    }\n",
       "                }\n",
       "            }, 500);\n",
       "            "
      ],
      "text/plain": [
       "<IPython.core.display.Javascript object>"
      ]
     },
     "metadata": {},
     "output_type": "display_data"
    }
   ],
   "source": [
    "import dash\n",
    "import dash_html_components as html\n",
    "import dash_core_components as dcc\n",
    "import plotly.graph_objects as go\n",
    "import plotly.express as px"
   ]
  },
  {
   "cell_type": "code",
   "execution_count": 3,
   "metadata": {},
   "outputs": [
    {
     "data": {
      "application/javascript": [
       "\n",
       "            setTimeout(function() {\n",
       "                var nbb_cell_id = 3;\n",
       "                var nbb_unformatted_code = \"app = dash.Dash()   #initialising dash app\\ndf = px.data.stocks() #reading stock price dataset \\n\\ndef stock_prices():\\n    # Function for creating line chart showing Google stock prices over time \\n    fig = go.Figure([go.Scatter(x = df['date'], y = df['GOOG'],\\\\\\n                     line = dict(color = 'firebrick', width = 4), name = 'Google')\\n                     ])\\n    fig.update_layout(title = 'Prices over time',\\n                      xaxis_title = 'Dates',\\n                      yaxis_title = 'Prices'\\n                      )\\n    return fig  \\n\\n \\napp.layout = html.Div(id = 'parent', children = [\\n    html.H1(id = 'H1', children = 'Styling using html components', style = {'textAlign':'center',\\\\\\n                                            'marginTop':40,'marginBottom':40}),\\n\\n        \\n        dcc.Graph(id = 'line_plot', figure = stock_prices())    \\n    ]\\n                     )\";\n",
       "                var nbb_formatted_code = \"app = dash.Dash()  # initialising dash app\\ndf = px.data.stocks()  # reading stock price dataset\\n\\n\\ndef stock_prices():\\n    # Function for creating line chart showing Google stock prices over time\\n    fig = go.Figure(\\n        [\\n            go.Scatter(\\n                x=df[\\\"date\\\"],\\n                y=df[\\\"GOOG\\\"],\\n                line=dict(color=\\\"firebrick\\\", width=4),\\n                name=\\\"Google\\\",\\n            )\\n        ]\\n    )\\n    fig.update_layout(\\n        title=\\\"Prices over time\\\", xaxis_title=\\\"Dates\\\", yaxis_title=\\\"Prices\\\"\\n    )\\n    return fig\\n\\n\\napp.layout = html.Div(\\n    id=\\\"parent\\\",\\n    children=[\\n        html.H1(\\n            id=\\\"H1\\\",\\n            children=\\\"Styling using html components\\\",\\n            style={\\\"textAlign\\\": \\\"center\\\", \\\"marginTop\\\": 40, \\\"marginBottom\\\": 40},\\n        ),\\n        dcc.Graph(id=\\\"line_plot\\\", figure=stock_prices()),\\n    ],\\n)\";\n",
       "                var nbb_cells = Jupyter.notebook.get_cells();\n",
       "                for (var i = 0; i < nbb_cells.length; ++i) {\n",
       "                    if (nbb_cells[i].input_prompt_number == nbb_cell_id) {\n",
       "                        if (nbb_cells[i].get_text() == nbb_unformatted_code) {\n",
       "                             nbb_cells[i].set_text(nbb_formatted_code);\n",
       "                        }\n",
       "                        break;\n",
       "                    }\n",
       "                }\n",
       "            }, 500);\n",
       "            "
      ],
      "text/plain": [
       "<IPython.core.display.Javascript object>"
      ]
     },
     "metadata": {},
     "output_type": "display_data"
    }
   ],
   "source": [
    "app = dash.Dash()  # initialising dash app\n",
    "df = px.data.stocks()  # reading stock price dataset\n",
    "\n",
    "\n",
    "def stock_prices():\n",
    "    # Function for creating line chart showing Google stock prices over time\n",
    "    fig = go.Figure(\n",
    "        [\n",
    "            go.Scatter(\n",
    "                x=df[\"date\"],\n",
    "                y=df[\"GOOG\"],\n",
    "                line=dict(color=\"firebrick\", width=4),\n",
    "                name=\"Google\",\n",
    "            )\n",
    "        ]\n",
    "    )\n",
    "    fig.update_layout(\n",
    "        title=\"Prices over time\", xaxis_title=\"Dates\", yaxis_title=\"Prices\"\n",
    "    )\n",
    "    return fig\n",
    "\n",
    "\n",
    "app.layout = html.Div(\n",
    "    id=\"parent\",\n",
    "    children=[\n",
    "        html.H1(\n",
    "            id=\"H1\",\n",
    "            children=\"Styling using html components\",\n",
    "            style={\"textAlign\": \"center\", \"marginTop\": 40, \"marginBottom\": 40},\n",
    "        ),\n",
    "        dcc.Graph(id=\"line_plot\", figure=stock_prices()),\n",
    "    ],\n",
    ")"
   ]
  },
  {
   "cell_type": "markdown",
   "metadata": {},
   "source": [
    "## Start\n"
   ]
  },
  {
   "cell_type": "code",
   "execution_count": null,
   "metadata": {},
   "outputs": [
    {
     "name": "stdout",
     "output_type": "stream",
     "text": [
      "Dash is running on http://127.0.0.1:8089/\n",
      "\n",
      " * Serving Flask app '__main__' (lazy loading)\n",
      " * Environment: production\n",
      "\u001b[31m   WARNING: This is a development server. Do not use it in a production deployment.\u001b[0m\n",
      "\u001b[2m   Use a production WSGI server instead.\u001b[0m\n",
      " * Debug mode: off\n"
     ]
    },
    {
     "name": "stderr",
     "output_type": "stream",
     "text": [
      " * Running on http://127.0.0.1:8089/ (Press CTRL+C to quit)\n"
     ]
    }
   ],
   "source": [
    "if __name__ == '__main__': \n",
    "    app.run_server(port=8089)  # musiałem zmienić port na 8080"
   ]
  }
 ],
 "metadata": {
  "kernelspec": {
   "display_name": "Python 3",
   "language": "python",
   "name": "python3"
  },
  "language_info": {
   "codemirror_mode": {
    "name": "ipython",
    "version": 3
   },
   "file_extension": ".py",
   "mimetype": "text/x-python",
   "name": "python",
   "nbconvert_exporter": "python",
   "pygments_lexer": "ipython3",
   "version": "3.6.9"
  }
 },
 "nbformat": 4,
 "nbformat_minor": 2
}
